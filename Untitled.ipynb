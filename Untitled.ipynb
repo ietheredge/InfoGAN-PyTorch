{
 "cells": [
  {
   "cell_type": "code",
   "execution_count": 1,
   "metadata": {},
   "outputs": [
    {
     "name": "stdout",
     "output_type": "stream",
     "text": [
      "patternspace\r\n"
     ]
    }
   ],
   "source": [
    "!echo $CONDA_DEFAULT_ENV"
   ]
  },
  {
   "cell_type": "code",
   "execution_count": 2,
   "metadata": {},
   "outputs": [
    {
     "name": "stdout",
     "output_type": "stream",
     "text": [
      "no change     /home/ngwena-ian/miniconda3/condabin/conda\r\n",
      "no change     /home/ngwena-ian/miniconda3/bin/conda\r\n",
      "no change     /home/ngwena-ian/miniconda3/bin/conda-env\r\n",
      "no change     /home/ngwena-ian/miniconda3/bin/activate\r\n",
      "no change     /home/ngwena-ian/miniconda3/bin/deactivate\r\n",
      "no change     /home/ngwena-ian/miniconda3/etc/profile.d/conda.sh\r\n",
      "no change     /home/ngwena-ian/miniconda3/etc/fish/conf.d/conda.fish\r\n",
      "no change     /home/ngwena-ian/miniconda3/shell/condabin/Conda.psm1\r\n",
      "no change     /home/ngwena-ian/miniconda3/shell/condabin/conda-hook.ps1\r\n",
      "no change     /home/ngwena-ian/miniconda3/lib/python3.7/site-packages/xontrib/conda.xsh\r\n",
      "no change     /home/ngwena-ian/miniconda3/etc/profile.d/conda.csh\r\n",
      "no change     /home/ngwena-ian/.bashrc\r\n",
      "No action taken.\r\n"
     ]
    }
   ],
   "source": [
    "!conda init bash"
   ]
  },
  {
   "cell_type": "code",
   "execution_count": 3,
   "metadata": {},
   "outputs": [
    {
     "name": "stdout",
     "output_type": "stream",
     "text": [
      "\r\n",
      "CommandNotFoundError: Your shell has not been properly configured to use 'conda deactivate'.\r\n",
      "To initialize your shell, run\r\n",
      "\r\n",
      "    $ conda init <SHELL_NAME>\r\n",
      "\r\n",
      "Currently supported shells are:\r\n",
      "  - bash\r\n",
      "  - fish\r\n",
      "  - tcsh\r\n",
      "  - xonsh\r\n",
      "  - zsh\r\n",
      "  - powershell\r\n",
      "\r\n",
      "See 'conda init --help' for more information and options.\r\n",
      "\r\n",
      "IMPORTANT: You may need to close and restart your shell after running 'conda init'.\r\n",
      "\r\n",
      "\r\n"
     ]
    }
   ],
   "source": [
    "!conda deactivate"
   ]
  },
  {
   "cell_type": "code",
   "execution_count": null,
   "metadata": {},
   "outputs": [],
   "source": []
  }
 ],
 "metadata": {
  "kernelspec": {
   "display_name": "Python 3",
   "language": "python",
   "name": "python3"
  },
  "language_info": {
   "codemirror_mode": {
    "name": "ipython",
    "version": 3
   },
   "file_extension": ".py",
   "mimetype": "text/x-python",
   "name": "python",
   "nbconvert_exporter": "python",
   "pygments_lexer": "ipython3",
   "version": "3.7.4"
  }
 },
 "nbformat": 4,
 "nbformat_minor": 2
}
